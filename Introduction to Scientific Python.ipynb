{
 "metadata": {
  "name": ""
 },
 "nbformat": 3,
 "nbformat_minor": 0,
 "worksheets": [
  {
   "cells": [
    {
     "cell_type": "markdown",
     "metadata": {},
     "source": [
      "# Introduction to Scientific Python\n",
      "\n",
      "***Speaker:*** Mainak Jas\n",
      "\n",
      "***Email:*** mainak.jas@aalto.fi\n",
      "\n",
      "***Abstract:*** Python is already well-known as a simple yet flexible and powerful object-oriented language for programming. In recent years, the increasing number of high quality open source packages has made it a formidable competitor to Matlab. The `numpy` and the `scipy` libraries for data manipulation and `matplotlib` for data plotting form the foundation pillars of the scientific ecosystem in python. However, the real benefit of python is realized for domain-specific applications. The `scikit-learn` package for machine learning and the `scikit-image` package for image processing are prime examples where the alternatives available are far better than Matlab.\n",
      "\n",
      "The objective of the workshop is to familiarize the participants to a typical workflow for scientific computing in python. The workshop will begin with a short lecture with the `ipython notebook` aimed as a quick start to the programming language and an introduction to the available tools for scientific computing in python. This will be followed by a hands on exercise session where the instructor will guide the participants in experimenting with the libraries introduced in the first part of the workshop.\n",
      "\n",
      "***Background:*** I completed my BTech in Instrumentation Engineering from IIT Kharagpur in 2012. My Bachelor's thesis focused on I have participated in two Google Summer of Code editions: [2013](https://www.google-melange.com/gsoc/homepage/google/gsoc2013) and [2014](https://www.google-melange.com/gsoc/homepage/google/gsoc2014) with [mne-python](http://martinos.org/mne/stable/mne-python.html) under the umbrella of [Python Software Foundation](https://www.python.org/psf/). My open source contributions can be found my [github page](https://github.com/mainakjas). My scientific contributions include [publications](http://scholar.google.co.in/citations?user=YIi1T7IAAAAJ&hl=en&oi=ao) in reputed international peer-reviewed journals such as _The Journal of Neuroscience_, _Frontiers in Neuroscience_ and the _Journal of Digital Imaging_. \n",
      "\n",
      "***Before the workshop:***\n",
      "\n",
      "Install the following packages:\n",
      "\n",
      "* A scientific python bundle: [Anaconda Scientific Suite](https://store.continuum.io/cshop/anaconda/) (preferable). The other alternative is [Enthought Canopy](https://store.enthought.com/).\n",
      "* A modern text editor such as [Sublime Text](http://www.sublimetext.com/).\n",
      "* [Pyflakes](https://github.com/SublimeLinter/SublimeLinter-pyflakes), an error checking tool, integrated into the text editor.\n",
      "\n",
      "Users who are familiar with Matlab may find it easier to get started with [Spyder](http://code.google.com/p/spyderlib/)."
     ]
    }
   ],
   "metadata": {}
  }
 ]
}